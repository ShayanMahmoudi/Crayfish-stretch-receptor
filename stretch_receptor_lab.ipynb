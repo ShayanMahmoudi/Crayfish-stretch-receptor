{
 "cells": [
  {
   "cell_type": "markdown",
   "metadata": {},
   "source": [
    "## Imports libraries"
   ]
  },
  {
   "cell_type": "code",
   "execution_count": 2,
   "metadata": {},
   "outputs": [],
   "source": [
    "import pandas as pd\n",
    "import numpy as np\n",
    "import mne\n",
    "\n",
    "import matplotlib as mpl\n",
    "import matplotlib.pyplot as plt\n",
    "mpl.use('Qt5Agg')"
   ]
  },
  {
   "cell_type": "markdown",
   "metadata": {},
   "source": [
    "## Opens and cleans the text file"
   ]
  },
  {
   "cell_type": "code",
   "execution_count": 3,
   "metadata": {},
   "outputs": [],
   "source": [
    "def clean_text(file, nrow):\n",
    "    with open(file, \"r\") as file:\n",
    "\n",
    "        # Creates the placeholder data object\n",
    "        data = np.zeros((3157171,2))\n",
    "\n",
    "        i = 0\n",
    "        for line in file:\n",
    "            \n",
    "            if i == nrow:\n",
    "                break\n",
    "            \n",
    "            # Creates a row out of the line and adds it to the data object\n",
    "            row = line.split(\"\\t\")\n",
    "            row[2] = row[2].replace(\"\\n\", \"\")\n",
    "            row = np.array([[float(row[0]), float(row[2]) * (10 ** -6)]])\n",
    "            data[i] = row\n",
    "            \n",
    "            i += 1\n",
    "\n",
    "    # Removes the placeholder row at the beginning\n",
    "    data = data[1:]\n",
    "    return data"
   ]
  },
  {
   "cell_type": "code",
   "execution_count": 4,
   "metadata": {},
   "outputs": [],
   "source": [
    "data = clean_text(file = \"exp1.txt\", nrow = -1)\n",
    "data[:,1] = data[:,1] + 26e-6\n",
    "data[:,0] = data[:, 0] - 98.9975\n",
    "\n",
    "df = pd.DataFrame(data=data)\n",
    "df.to_csv(\"exp1_cleaned.csv\", index=False)"
   ]
  },
  {
   "cell_type": "markdown",
   "metadata": {},
   "source": []
  },
  {
   "cell_type": "markdown",
   "metadata": {},
   "source": [
    "## Convert data to mne"
   ]
  },
  {
   "cell_type": "code",
   "execution_count": 5,
   "metadata": {},
   "outputs": [
    {
     "name": "stdout",
     "output_type": "stream",
     "text": [
      "Creating RawArray with float64 data, n_channels=1, n_times=3157170\n",
      "    Range : 0 ... 3157169 =      0.000 ...   789.292 secs\n",
      "Ready.\n",
      "Using matplotlib as 2D backend.\n"
     ]
    },
    {
     "data": {
      "text/plain": [
       "<MNEBrowseFigure size 2560x1334 with 4 Axes>"
      ]
     },
     "execution_count": 5,
     "metadata": {},
     "output_type": "execute_result"
    }
   ],
   "source": [
    "def create_mne(data, description = \"Data from the stretch receptor lab\"):\n",
    "\n",
    "    # Calculates the sampling frequency\n",
    "    sam_freq = 1 / (data[1,0] - data[0,0])\n",
    "    sam_freq = 4000\n",
    "\n",
    "    # Creates the mne info object\n",
    "    info = mne.create_info([\"Channel 1\"], sfreq = sam_freq, ch_types = [\"ecog\"])\n",
    "    info[\"description\"] = description\n",
    "\n",
    "    # Creates the mne raw object\n",
    "    raw_data = np.array([data[:, 1]])\n",
    "    mne_raw = mne.io.RawArray(data = raw_data, info = info)\n",
    "\n",
    "    return mne_raw\n",
    "\n",
    "\n",
    "raw = create_mne(data)\n",
    "raw.plot()"
   ]
  },
  {
   "cell_type": "code",
   "execution_count": 6,
   "metadata": {},
   "outputs": [
    {
     "data": {
      "text/plain": [
       "array([[ 2.5875000e-01, -2.3093750e-05],\n",
       "       [ 5.6575000e-01, -2.3031250e-05],\n",
       "       [ 8.6100000e-01, -2.5812500e-05],\n",
       "       ...,\n",
       "       [ 7.8913725e+02, -5.0406250e-05],\n",
       "       [ 7.8915950e+02, -4.9968750e-05],\n",
       "       [ 7.8918150e+02, -4.9000000e-05]])"
      ]
     },
     "execution_count": 6,
     "metadata": {},
     "output_type": "execute_result"
    }
   ],
   "source": [
    "def detect_spikes(data, threshold, sfreq):\n",
    "    \"\"\"\n",
    "        data: The time series data with the format: [[timestamp, amplitude],...]\n",
    "        threshold: voltage threshold for spike detection (in microvolts)\n",
    "        sfreq: The sampling frequency (in Hz)\n",
    "\n",
    "        returns spike_data. Format: [Timestamp, width, amplitude]\n",
    "    \"\"\"\n",
    "    threshold = threshold * 10**-6\n",
    "    spike_data = []\n",
    "    check_falling = lambda data, i: (data[i + 1, 1] - data[i, 1]) < 0\n",
    "    check_rising = lambda data, i: data[i + 1, 1] - data[i, 1] > 0\n",
    "    \n",
    "\n",
    "    spike_detected = False\n",
    "    for i in range(0, len(data) - 1):\n",
    "        \n",
    "        if data[i, 1] < threshold and check_falling(data, i) and not spike_detected:\n",
    "            spike_detected = True\n",
    "            \n",
    "        if spike_detected and check_rising(data, i):\n",
    "            spike_detected = False\n",
    "            spike_data.append(data[i])\n",
    "            \n",
    "    \n",
    "    return np.array(spike_data)\n",
    "\n",
    "spikes = detect_spikes(data, -18, 4000)\n",
    "spikes\n",
    "\n",
    "\n"
   ]
  },
  {
   "cell_type": "markdown",
   "metadata": {},
   "source": [
    "## Calculate instantanous frequencies"
   ]
  },
  {
   "cell_type": "code",
   "execution_count": 7,
   "metadata": {},
   "outputs": [],
   "source": [
    "def inst_freq(spike_data):\n",
    "\n",
    "    inst_freqs = np.zeros((len(spike_data) - 1, 2))\n",
    "\n",
    "    for i in range(len(spikes) - 1):\n",
    "        inst_freqs[i] = [spike_data[i, 0], 1 / (spike_data[i + 1, 0] - spike_data[i, 0])]\n",
    "    \n",
    "    \n",
    "    return inst_freqs\n",
    "\n",
    "ifd = inst_freq(spike_data=spikes)\n",
    "ifd[:, 0] = ifd[:, 0]\n",
    "\n",
    "\n",
    "x = ifd[:, 0]\n",
    "y = ifd[:, 1]\n",
    "\n",
    "\n",
    "\n"
   ]
  },
  {
   "cell_type": "markdown",
   "metadata": {},
   "source": [
    "## Get stretch adaptation data"
   ]
  },
  {
   "cell_type": "code",
   "execution_count": 8,
   "metadata": {},
   "outputs": [
    {
     "name": "stdout",
     "output_type": "stream",
     "text": [
      "[[0.00000000e+00 8.31000000e+00]\n",
      " [2.50025003e-03 8.30820510e+00]\n",
      " [5.00050005e-03 8.30641230e+00]\n",
      " ...\n",
      " [2.49949995e+01 6.78001226e+00]\n",
      " [2.49974997e+01 6.78001224e+00]\n",
      " [2.50000000e+01 6.78001223e+00]]\n",
      "[[0.00000000e+00 1.99100000e+01]\n",
      " [2.50025003e-03 1.99080374e+01]\n",
      " [5.00050005e-03 1.99060759e+01]\n",
      " ...\n",
      " [2.49949995e+01 1.60258476e+01]\n",
      " [2.49974997e+01 1.60258346e+01]\n",
      " [2.50000000e+01 1.60258216e+01]]\n",
      "[[0.00000000e+00 2.94000000e+01]\n",
      " [2.50025003e-03 2.93972055e+01]\n",
      " [5.00050005e-03 2.93944120e+01]\n",
      " ...\n",
      " [2.49949995e+01 2.22588422e+01]\n",
      " [2.49974997e+01 2.22587814e+01]\n",
      " [2.50000000e+01 2.22587206e+01]]\n"
     ]
    }
   ],
   "source": [
    "def get_freq_data(file, n):\n",
    "    with open(file, \"r\") as file:\n",
    "        freq_data = np.zeros((n, 2)) \n",
    "        \n",
    "        i = 0\n",
    "        for line in file:\n",
    "            line = line.split(\",\")\n",
    "            freq_data[i] = [float(line[0]), float(line[1])]\n",
    "            i += 1\n",
    "\n",
    "    return freq_data\n",
    "\n",
    "def fit_function(R_inf, R0, tau, x_range = (0, 25), n = 10000):\n",
    "    x = np.linspace(start = x_range[0], stop = x_range[1], num = n)\n",
    "    y = R_inf + R0 * np.exp(-x / tau)\n",
    "\n",
    "    data = np.zeros((n,2))\n",
    "    data[:,0] = x\n",
    "    data[:, 1] = y\n",
    "    print(data)\n",
    "    return data\n",
    "\n",
    "s15mm = get_freq_data(\"exp1/15mm_fit_data.txt\", 174) # 28.1s\n",
    "s15mm[:,0] = s15mm[:,0] - s15mm[0,0]\n",
    "s20mm = get_freq_data(\"exp1/20mm_fit_data.txt\", 419) # 34.2s\n",
    "s20mm[:,0] = s20mm[:,0] - s20mm[0,0]\n",
    "s25mm = get_freq_data(\"exp1/25mm_fit_data.txt\", 599) # 53.16s\n",
    "s25mm[:,0] = s25mm[:,0] - s25mm[0,0]\n",
    "\n",
    "data15mm = fit_function(R_inf = 6.78, R0 = 1.53, tau = 2.13)\n",
    "data20mm = fit_function(R_inf = 16.0, R0 = 3.91, tau = 4.98)\n",
    "data25mm = fit_function(R_inf = 22.1, R0 = 7.30, tau = 6.53)\n"
   ]
  },
  {
   "cell_type": "code",
   "execution_count": null,
   "metadata": {},
   "outputs": [],
   "source": []
  },
  {
   "cell_type": "markdown",
   "metadata": {},
   "source": []
  },
  {
   "cell_type": "code",
   "execution_count": 13,
   "metadata": {},
   "outputs": [],
   "source": [
    "plt.scatter(s15mm[:,0],s15mm[:,1], color = \"blue\")\n",
    "plt.scatter(s20mm[:,0],s20mm[:,1], color = \"red\")\n",
    "plt.scatter(s25mm[:,0],s25mm[:,1], color = \"green\")\n",
    "\n",
    "plt.plot(data15mm[:,0], data15mm[:,1], linewidth = 3, color = \"black\")\n",
    "plt.plot(data20mm[:,0], data20mm[:,1],linewidth = 3, color = \"black\")\n",
    "plt.plot(data25mm[:,0], data25mm[:,1], linewidth = 3, color = \"black\")\n",
    "\n",
    "plt.title(label=\" \", fontsize = 30, pad = 20)\n",
    "\n",
    "plt.xticks(fontsize = 17)\n",
    "plt.yticks(fontsize = 17)\n",
    "\n",
    "plt.xlabel(xlabel=\"Time (s)\", fontsize = 20,)\n",
    "plt.ylabel(ylabel=\"Action potential firing rate (Hz)\", fontsize = 20)\n",
    "plt.xlim((0, 26))\n",
    "\n",
    "plt.show()"
   ]
  }
 ],
 "metadata": {
  "kernelspec": {
   "display_name": "Python 3",
   "language": "python",
   "name": "python3"
  },
  "language_info": {
   "codemirror_mode": {
    "name": "ipython",
    "version": 3
   },
   "file_extension": ".py",
   "mimetype": "text/x-python",
   "name": "python",
   "nbconvert_exporter": "python",
   "pygments_lexer": "ipython3",
   "version": "3.12.3"
  }
 },
 "nbformat": 4,
 "nbformat_minor": 2
}
